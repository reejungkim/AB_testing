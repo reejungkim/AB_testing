{
 "cells": [
  {
   "cell_type": "code",
   "execution_count": 1,
   "id": "polish-anaheim",
   "metadata": {},
   "outputs": [],
   "source": [
    "import pandas as pd\n",
    "import numpy as np"
   ]
  },
  {
   "cell_type": "code",
   "execution_count": 2,
   "id": "compatible-watch",
   "metadata": {},
   "outputs": [],
   "source": [
    "df = pd.read_csv(\"https://raw.githubusercontent.com/RobbieGeoghegan/AB_Testing/master/ab_data.csv\")"
   ]
  },
  {
   "cell_type": "code",
   "execution_count": 3,
   "id": "fancy-terry",
   "metadata": {},
   "outputs": [
    {
     "data": {
      "text/plain": [
       "(294478, 5)"
      ]
     },
     "execution_count": 3,
     "metadata": {},
     "output_type": "execute_result"
    }
   ],
   "source": [
    "df.shape"
   ]
  },
  {
   "cell_type": "code",
   "execution_count": 4,
   "id": "different-lease",
   "metadata": {},
   "outputs": [
    {
     "data": {
      "text/html": [
       "<div>\n",
       "<style scoped>\n",
       "    .dataframe tbody tr th:only-of-type {\n",
       "        vertical-align: middle;\n",
       "    }\n",
       "\n",
       "    .dataframe tbody tr th {\n",
       "        vertical-align: top;\n",
       "    }\n",
       "\n",
       "    .dataframe thead th {\n",
       "        text-align: right;\n",
       "    }\n",
       "</style>\n",
       "<table border=\"1\" class=\"dataframe\">\n",
       "  <thead>\n",
       "    <tr style=\"text-align: right;\">\n",
       "      <th></th>\n",
       "      <th>user_id</th>\n",
       "      <th>timestamp</th>\n",
       "      <th>group</th>\n",
       "      <th>landing_page</th>\n",
       "      <th>converted</th>\n",
       "    </tr>\n",
       "  </thead>\n",
       "  <tbody>\n",
       "    <tr>\n",
       "      <th>0</th>\n",
       "      <td>851104</td>\n",
       "      <td>11:48.6</td>\n",
       "      <td>control</td>\n",
       "      <td>old_page</td>\n",
       "      <td>0</td>\n",
       "    </tr>\n",
       "    <tr>\n",
       "      <th>1</th>\n",
       "      <td>804228</td>\n",
       "      <td>01:45.2</td>\n",
       "      <td>control</td>\n",
       "      <td>old_page</td>\n",
       "      <td>0</td>\n",
       "    </tr>\n",
       "    <tr>\n",
       "      <th>2</th>\n",
       "      <td>661590</td>\n",
       "      <td>55:06.2</td>\n",
       "      <td>treatment</td>\n",
       "      <td>new_page</td>\n",
       "      <td>0</td>\n",
       "    </tr>\n",
       "  </tbody>\n",
       "</table>\n",
       "</div>"
      ],
      "text/plain": [
       "   user_id timestamp      group landing_page  converted\n",
       "0   851104   11:48.6    control     old_page          0\n",
       "1   804228   01:45.2    control     old_page          0\n",
       "2   661590   55:06.2  treatment     new_page          0"
      ]
     },
     "execution_count": 4,
     "metadata": {},
     "output_type": "execute_result"
    }
   ],
   "source": [
    "df.head(3)"
   ]
  },
  {
   "cell_type": "code",
   "execution_count": 5,
   "id": "expired-pendant",
   "metadata": {},
   "outputs": [
    {
     "data": {
      "text/plain": [
       "array(['control', 'treatment'], dtype=object)"
      ]
     },
     "execution_count": 5,
     "metadata": {},
     "output_type": "execute_result"
    }
   ],
   "source": [
    "df.group.unique()"
   ]
  },
  {
   "cell_type": "code",
   "execution_count": 6,
   "id": "crude-forty",
   "metadata": {},
   "outputs": [
    {
     "data": {
      "text/plain": [
       "array(['old_page', 'new_page'], dtype=object)"
      ]
     },
     "execution_count": 6,
     "metadata": {},
     "output_type": "execute_result"
    }
   ],
   "source": [
    "df.landing_page.unique()"
   ]
  },
  {
   "cell_type": "code",
   "execution_count": 7,
   "id": "realistic-rider",
   "metadata": {},
   "outputs": [
    {
     "data": {
      "text/plain": [
       "treatment    147276\n",
       "control      147202\n",
       "Name: group, dtype: int64"
      ]
     },
     "execution_count": 7,
     "metadata": {},
     "output_type": "execute_result"
    }
   ],
   "source": [
    "df[\"group\"].value_counts()"
   ]
  },
  {
   "cell_type": "code",
   "execution_count": 9,
   "id": "constant-latex",
   "metadata": {},
   "outputs": [
    {
     "name": "stdout",
     "output_type": "stream",
     "text": [
      "(290585, 5)\n"
     ]
    },
    {
     "data": {
      "text/plain": [
       "treatment    145311\n",
       "control      145274\n",
       "Name: group, dtype: int64"
      ]
     },
     "execution_count": 9,
     "metadata": {},
     "output_type": "execute_result"
    }
   ],
   "source": [
    "#some of the control group saw the new_page and some tretment group saw the old_page - delete these instances\n",
    "mask1 = (df[\"group\"] == \"control\") & (df[\"landing_page\"] == \"new_page\")\n",
    "index_to_drop1 = df[mask1].index\n",
    "df = df.drop(index_to_drop1)\n",
    "\n",
    "mask2 = (df[\"group\"] == \"treatment\") & (df[\"landing_page\"] == \"old_page\")\n",
    "index_to_drop2 = df[mask2].index\n",
    "df = df.drop(index_to_drop2)\n",
    "\n",
    "print(df.shape)\n",
    "df[\"group\"].value_counts()"
   ]
  },
  {
   "cell_type": "code",
   "execution_count": 10,
   "id": "compatible-diversity",
   "metadata": {},
   "outputs": [
    {
     "name": "stdout",
     "output_type": "stream",
     "text": [
      "290585\n",
      "290584\n"
     ]
    }
   ],
   "source": [
    "#Check how many duplicated users exist\n",
    "print(df[\"user_id\"].count())\n",
    "print(df[\"user_id\"].nunique())"
   ]
  },
  {
   "cell_type": "code",
   "execution_count": 11,
   "id": "possible-myanmar",
   "metadata": {},
   "outputs": [],
   "source": [
    "#drop duplicated users\n",
    "df.drop_duplicates(subset ='user_id',keep ='first',inplace = True)"
   ]
  },
  {
   "cell_type": "code",
   "execution_count": 12,
   "id": "compact-queen",
   "metadata": {},
   "outputs": [
    {
     "data": {
      "text/plain": [
       "(290584, 5)"
      ]
     },
     "execution_count": 12,
     "metadata": {},
     "output_type": "execute_result"
    }
   ],
   "source": [
    "df.shape"
   ]
  },
  {
   "cell_type": "code",
   "execution_count": 13,
   "id": "reflected-dealing",
   "metadata": {},
   "outputs": [],
   "source": [
    "#Show the % split between users who saw new vs old page\n",
    "#Calculate pooled probability\n",
    "mask = (df[\"group\"] == \"control\")\n",
    "conversions_control = df[\"converted\"][mask].sum()\n",
    "total_users_control = df[\"converted\"][mask].count()"
   ]
  },
  {
   "cell_type": "code",
   "execution_count": 14,
   "id": "special-meter",
   "metadata": {},
   "outputs": [],
   "source": [
    "mask = (df[\"group\"] == \"treatment\")\n",
    "conversions_treatment = df[\"converted\"][mask].sum()\n",
    "total_users_treatment = df[\"converted\"][mask].count()"
   ]
  },
  {
   "cell_type": "code",
   "execution_count": 15,
   "id": "wooden-analyst",
   "metadata": {},
   "outputs": [
    {
     "name": "stdout",
     "output_type": "stream",
     "text": [
      "Split of control users who saw old page vs treatment users who saw new page:  49.99 %  50.01 %\n",
      "Number of control users who converted on old page:  17489\n",
      "Percentage of control users who converted:  12.04 %\n",
      "Number of treatment users who converted on new page:  17264\n",
      "Percentage of treatment users who converted:  11.88 %\n"
     ]
    }
   ],
   "source": [
    "print(\"Split of control users who saw old page vs treatment users who saw new page: \", \n",
    "          round(total_users_control / df[\"converted\"].count() * 100, 2), \"% \",\n",
    "          round((total_users_treatment / df[\"converted\"].count()) * 100, 2), \"%\")\n",
    "\n",
    "#count number of users who converted in each group\n",
    "print(\"Number of control users who converted on old page: \", conversions_control)\n",
    "print(\"Percentage of control users who converted: \", round((conversions_control / total_users_control) * 100, 2), \"%\")\n",
    "\n",
    "mask = (df[\"group\"] == \"treatment\")\n",
    "print(\"Number of treatment users who converted on new page: \", conversions_treatment)\n",
    "print(\"Percentage of treatment users who converted: \", round((conversions_treatment/ total_users_treatment) * 100, 2), \"%\")"
   ]
  },
  {
   "cell_type": "code",
   "execution_count": 17,
   "id": "higher-fields",
   "metadata": {},
   "outputs": [
    {
     "name": "stdout",
     "output_type": "stream",
     "text": [
      "Required sample size:  17209  per group\n"
     ]
    }
   ],
   "source": [
    "import math\n",
    "import statsmodels.stats.api as sms\n",
    "import scipy.stats as st\n",
    "\n",
    "#Check what sample size is required\n",
    "baseline_rate = conversions_control / total_users_control\n",
    "practical_significance = 0.01 #user defined\n",
    "confidence_level = 0.05 #user defined, for a 95% confidence interval\n",
    "sensitivity = 0.8 #user defined\n",
    "\n",
    "effect_size = sms.proportion_effectsize(baseline_rate, baseline_rate + practical_significance)\n",
    "sample_size = sms.NormalIndPower().solve_power(effect_size = effect_size, power = sensitivity, \n",
    "                                               alpha = confidence_level, ratio=1)\n",
    "print(\"Required sample size: \", round(sample_size), \" per group\")"
   ]
  },
  {
   "cell_type": "code",
   "execution_count": null,
   "id": "convertible-fireplace",
   "metadata": {},
   "outputs": [],
   "source": []
  }
 ],
 "metadata": {
  "kernelspec": {
   "display_name": "Python 3",
   "language": "python",
   "name": "python3"
  },
  "language_info": {
   "codemirror_mode": {
    "name": "ipython",
    "version": 3
   },
   "file_extension": ".py",
   "mimetype": "text/x-python",
   "name": "python",
   "nbconvert_exporter": "python",
   "pygments_lexer": "ipython3",
   "version": "3.7.0"
  }
 },
 "nbformat": 4,
 "nbformat_minor": 5
}
