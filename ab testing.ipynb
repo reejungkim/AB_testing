{
 "cells": [
  {
   "cell_type": "code",
   "execution_count": 1,
   "id": "worth-affair",
   "metadata": {},
   "outputs": [],
   "source": [
    "import pandas as pd\n",
    "import numpy as np"
   ]
  },
  {
   "cell_type": "code",
   "execution_count": 2,
   "id": "obvious-baghdad",
   "metadata": {},
   "outputs": [],
   "source": [
    "df = pd.read_csv(\"https://raw.githubusercontent.com/RobbieGeoghegan/AB_Testing/master/ab_data.csv\")"
   ]
  },
  {
   "cell_type": "code",
   "execution_count": 3,
   "id": "civilian-rwanda",
   "metadata": {},
   "outputs": [
    {
     "data": {
      "text/plain": [
       "(294478, 5)"
      ]
     },
     "execution_count": 3,
     "metadata": {},
     "output_type": "execute_result"
    }
   ],
   "source": [
    "df.shape"
   ]
  },
  {
   "cell_type": "code",
   "execution_count": 4,
   "id": "animated-forum",
   "metadata": {},
   "outputs": [
    {
     "data": {
      "text/html": [
       "<div>\n",
       "<style scoped>\n",
       "    .dataframe tbody tr th:only-of-type {\n",
       "        vertical-align: middle;\n",
       "    }\n",
       "\n",
       "    .dataframe tbody tr th {\n",
       "        vertical-align: top;\n",
       "    }\n",
       "\n",
       "    .dataframe thead th {\n",
       "        text-align: right;\n",
       "    }\n",
       "</style>\n",
       "<table border=\"1\" class=\"dataframe\">\n",
       "  <thead>\n",
       "    <tr style=\"text-align: right;\">\n",
       "      <th></th>\n",
       "      <th>user_id</th>\n",
       "      <th>timestamp</th>\n",
       "      <th>group</th>\n",
       "      <th>landing_page</th>\n",
       "      <th>converted</th>\n",
       "    </tr>\n",
       "  </thead>\n",
       "  <tbody>\n",
       "    <tr>\n",
       "      <th>0</th>\n",
       "      <td>851104</td>\n",
       "      <td>11:48.6</td>\n",
       "      <td>control</td>\n",
       "      <td>old_page</td>\n",
       "      <td>0</td>\n",
       "    </tr>\n",
       "    <tr>\n",
       "      <th>1</th>\n",
       "      <td>804228</td>\n",
       "      <td>01:45.2</td>\n",
       "      <td>control</td>\n",
       "      <td>old_page</td>\n",
       "      <td>0</td>\n",
       "    </tr>\n",
       "    <tr>\n",
       "      <th>2</th>\n",
       "      <td>661590</td>\n",
       "      <td>55:06.2</td>\n",
       "      <td>treatment</td>\n",
       "      <td>new_page</td>\n",
       "      <td>0</td>\n",
       "    </tr>\n",
       "  </tbody>\n",
       "</table>\n",
       "</div>"
      ],
      "text/plain": [
       "   user_id timestamp      group landing_page  converted\n",
       "0   851104   11:48.6    control     old_page          0\n",
       "1   804228   01:45.2    control     old_page          0\n",
       "2   661590   55:06.2  treatment     new_page          0"
      ]
     },
     "execution_count": 4,
     "metadata": {},
     "output_type": "execute_result"
    }
   ],
   "source": [
    "df.head(3)"
   ]
  },
  {
   "cell_type": "code",
   "execution_count": 5,
   "id": "noticed-purpose",
   "metadata": {},
   "outputs": [
    {
     "data": {
      "text/plain": [
       "array(['control', 'treatment'], dtype=object)"
      ]
     },
     "execution_count": 5,
     "metadata": {},
     "output_type": "execute_result"
    }
   ],
   "source": [
    "df.group.unique()"
   ]
  },
  {
   "cell_type": "code",
   "execution_count": 6,
   "id": "designed-affairs",
   "metadata": {},
   "outputs": [
    {
     "data": {
      "text/plain": [
       "array(['old_page', 'new_page'], dtype=object)"
      ]
     },
     "execution_count": 6,
     "metadata": {},
     "output_type": "execute_result"
    }
   ],
   "source": [
    "df.landing_page.unique()"
   ]
  },
  {
   "cell_type": "code",
   "execution_count": 7,
   "id": "encouraging-commons",
   "metadata": {},
   "outputs": [
    {
     "data": {
      "text/plain": [
       "treatment    147276\n",
       "control      147202\n",
       "Name: group, dtype: int64"
      ]
     },
     "execution_count": 7,
     "metadata": {},
     "output_type": "execute_result"
    }
   ],
   "source": [
    "df[\"group\"].value_counts()"
   ]
  },
  {
   "cell_type": "code",
   "execution_count": 8,
   "id": "unexpected-noise",
   "metadata": {},
   "outputs": [
    {
     "name": "stdout",
     "output_type": "stream",
     "text": [
      "(290585, 5)\n"
     ]
    },
    {
     "data": {
      "text/plain": [
       "treatment    145311\n",
       "control      145274\n",
       "Name: group, dtype: int64"
      ]
     },
     "execution_count": 8,
     "metadata": {},
     "output_type": "execute_result"
    }
   ],
   "source": [
    "#some of the control group saw the new_page and some tretment group saw the old_page - delete these instances\n",
    "mask1 = (df[\"group\"] == \"control\") & (df[\"landing_page\"] == \"new_page\")\n",
    "index_to_drop1 = df[mask1].index\n",
    "df = df.drop(index_to_drop1)\n",
    "\n",
    "mask2 = (df[\"group\"] == \"treatment\") & (df[\"landing_page\"] == \"old_page\")\n",
    "index_to_drop2 = df[mask2].index\n",
    "df = df.drop(index_to_drop2)\n",
    "\n",
    "print(df.shape)\n",
    "df[\"group\"].value_counts()"
   ]
  },
  {
   "cell_type": "code",
   "execution_count": 9,
   "id": "plastic-pillow",
   "metadata": {},
   "outputs": [
    {
     "data": {
      "text/html": [
       "<div>\n",
       "<style scoped>\n",
       "    .dataframe tbody tr th:only-of-type {\n",
       "        vertical-align: middle;\n",
       "    }\n",
       "\n",
       "    .dataframe tbody tr th {\n",
       "        vertical-align: top;\n",
       "    }\n",
       "\n",
       "    .dataframe thead th {\n",
       "        text-align: right;\n",
       "    }\n",
       "</style>\n",
       "<table border=\"1\" class=\"dataframe\">\n",
       "  <thead>\n",
       "    <tr style=\"text-align: right;\">\n",
       "      <th></th>\n",
       "      <th>user_id</th>\n",
       "      <th>timestamp</th>\n",
       "      <th>group</th>\n",
       "      <th>landing_page</th>\n",
       "      <th>converted</th>\n",
       "    </tr>\n",
       "  </thead>\n",
       "  <tbody>\n",
       "    <tr>\n",
       "      <th>0</th>\n",
       "      <td>851104</td>\n",
       "      <td>11:48.6</td>\n",
       "      <td>control</td>\n",
       "      <td>old_page</td>\n",
       "      <td>0</td>\n",
       "    </tr>\n",
       "    <tr>\n",
       "      <th>1</th>\n",
       "      <td>804228</td>\n",
       "      <td>01:45.2</td>\n",
       "      <td>control</td>\n",
       "      <td>old_page</td>\n",
       "      <td>0</td>\n",
       "    </tr>\n",
       "    <tr>\n",
       "      <th>2</th>\n",
       "      <td>661590</td>\n",
       "      <td>55:06.2</td>\n",
       "      <td>treatment</td>\n",
       "      <td>new_page</td>\n",
       "      <td>0</td>\n",
       "    </tr>\n",
       "    <tr>\n",
       "      <th>3</th>\n",
       "      <td>853541</td>\n",
       "      <td>28:03.1</td>\n",
       "      <td>treatment</td>\n",
       "      <td>new_page</td>\n",
       "      <td>0</td>\n",
       "    </tr>\n",
       "    <tr>\n",
       "      <th>4</th>\n",
       "      <td>864975</td>\n",
       "      <td>52:26.2</td>\n",
       "      <td>control</td>\n",
       "      <td>old_page</td>\n",
       "      <td>1</td>\n",
       "    </tr>\n",
       "  </tbody>\n",
       "</table>\n",
       "</div>"
      ],
      "text/plain": [
       "   user_id timestamp      group landing_page  converted\n",
       "0   851104   11:48.6    control     old_page          0\n",
       "1   804228   01:45.2    control     old_page          0\n",
       "2   661590   55:06.2  treatment     new_page          0\n",
       "3   853541   28:03.1  treatment     new_page          0\n",
       "4   864975   52:26.2    control     old_page          1"
      ]
     },
     "execution_count": 9,
     "metadata": {},
     "output_type": "execute_result"
    }
   ],
   "source": [
    "df.head()"
   ]
  },
  {
   "cell_type": "code",
   "execution_count": 10,
   "id": "computational-console",
   "metadata": {},
   "outputs": [
    {
     "name": "stdout",
     "output_type": "stream",
     "text": [
      "290585\n",
      "290584\n"
     ]
    }
   ],
   "source": [
    "#Check how many duplicated users exist\n",
    "print(df[\"user_id\"].count())\n",
    "print(df[\"user_id\"].nunique())"
   ]
  },
  {
   "cell_type": "code",
   "execution_count": 11,
   "id": "respected-encyclopedia",
   "metadata": {},
   "outputs": [],
   "source": [
    "#drop duplicated users\n",
    "df.drop_duplicates(subset ='user_id',keep ='first',inplace = True)"
   ]
  },
  {
   "cell_type": "code",
   "execution_count": 12,
   "id": "strong-associate",
   "metadata": {},
   "outputs": [
    {
     "data": {
      "text/plain": [
       "(290584, 5)"
      ]
     },
     "execution_count": 12,
     "metadata": {},
     "output_type": "execute_result"
    }
   ],
   "source": [
    "df.shape"
   ]
  },
  {
   "cell_type": "code",
   "execution_count": 13,
   "id": "otherwise-southeast",
   "metadata": {},
   "outputs": [
    {
     "data": {
      "text/html": [
       "<div>\n",
       "<style scoped>\n",
       "    .dataframe tbody tr th:only-of-type {\n",
       "        vertical-align: middle;\n",
       "    }\n",
       "\n",
       "    .dataframe tbody tr th {\n",
       "        vertical-align: top;\n",
       "    }\n",
       "\n",
       "    .dataframe thead th {\n",
       "        text-align: right;\n",
       "    }\n",
       "</style>\n",
       "<table border=\"1\" class=\"dataframe\">\n",
       "  <thead>\n",
       "    <tr style=\"text-align: right;\">\n",
       "      <th></th>\n",
       "      <th>converted</th>\n",
       "    </tr>\n",
       "    <tr>\n",
       "      <th>group</th>\n",
       "      <th></th>\n",
       "    </tr>\n",
       "  </thead>\n",
       "  <tbody>\n",
       "    <tr>\n",
       "      <th>control</th>\n",
       "      <td>0.120386</td>\n",
       "    </tr>\n",
       "    <tr>\n",
       "      <th>treatment</th>\n",
       "      <td>0.118808</td>\n",
       "    </tr>\n",
       "  </tbody>\n",
       "</table>\n",
       "</div>"
      ],
      "text/plain": [
       "           converted\n",
       "group               \n",
       "control     0.120386\n",
       "treatment   0.118808"
      ]
     },
     "execution_count": 13,
     "metadata": {},
     "output_type": "execute_result"
    }
   ],
   "source": [
    "df.pivot_table(index='group', values='converted')"
   ]
  },
  {
   "cell_type": "code",
   "execution_count": 14,
   "id": "noted-liabilities",
   "metadata": {},
   "outputs": [
    {
     "data": {
      "text/html": [
       "<div>\n",
       "<style scoped>\n",
       "    .dataframe tbody tr th:only-of-type {\n",
       "        vertical-align: middle;\n",
       "    }\n",
       "\n",
       "    .dataframe tbody tr th {\n",
       "        vertical-align: top;\n",
       "    }\n",
       "\n",
       "    .dataframe thead tr th {\n",
       "        text-align: left;\n",
       "    }\n",
       "\n",
       "    .dataframe thead tr:last-of-type th {\n",
       "        text-align: right;\n",
       "    }\n",
       "</style>\n",
       "<table border=\"1\" class=\"dataframe\">\n",
       "  <thead>\n",
       "    <tr>\n",
       "      <th></th>\n",
       "      <th>sum</th>\n",
       "      <th>count</th>\n",
       "    </tr>\n",
       "    <tr>\n",
       "      <th></th>\n",
       "      <th>converted</th>\n",
       "      <th>converted</th>\n",
       "    </tr>\n",
       "    <tr>\n",
       "      <th>group</th>\n",
       "      <th></th>\n",
       "      <th></th>\n",
       "    </tr>\n",
       "  </thead>\n",
       "  <tbody>\n",
       "    <tr>\n",
       "      <th>control</th>\n",
       "      <td>17489</td>\n",
       "      <td>145274</td>\n",
       "    </tr>\n",
       "    <tr>\n",
       "      <th>treatment</th>\n",
       "      <td>17264</td>\n",
       "      <td>145310</td>\n",
       "    </tr>\n",
       "  </tbody>\n",
       "</table>\n",
       "</div>"
      ],
      "text/plain": [
       "                sum     count\n",
       "          converted converted\n",
       "group                        \n",
       "control       17489    145274\n",
       "treatment     17264    145310"
      ]
     },
     "execution_count": 14,
     "metadata": {},
     "output_type": "execute_result"
    }
   ],
   "source": [
    "df.pivot_table(index='group', values='converted' , aggfunc=['sum', 'count'])"
   ]
  },
  {
   "cell_type": "code",
   "execution_count": 15,
   "id": "rural-source",
   "metadata": {},
   "outputs": [],
   "source": [
    "#Show the % split between users who saw new vs old page\n",
    "#Calculate pooled probability\n",
    "mask = (df[\"group\"] == \"control\")\n",
    "conversions_control = df[\"converted\"][mask].sum()\n",
    "total_users_control = df[\"converted\"][mask].count()"
   ]
  },
  {
   "cell_type": "code",
   "execution_count": 16,
   "id": "hungarian-ceiling",
   "metadata": {},
   "outputs": [],
   "source": [
    "mask = (df[\"group\"] == \"treatment\")\n",
    "conversions_treatment = df[\"converted\"][mask].sum()\n",
    "total_users_treatment = df[\"converted\"][mask].count()"
   ]
  },
  {
   "cell_type": "code",
   "execution_count": 17,
   "id": "passive-clerk",
   "metadata": {},
   "outputs": [
    {
     "name": "stdout",
     "output_type": "stream",
     "text": [
      "Split of control users who saw old page vs treatment users who saw new page:  49.99 %  50.01 % \n",
      "\n",
      "Number of control users were put on old page:  145274\n",
      "Number of control users who converted on old page:  17489\n",
      "Percentage of control users who converted:  12.04 %\n",
      "\n",
      "Number of control users were put on new page:  145310\n",
      "Number of treatment users who converted on new page:  17264\n",
      "Percentage of treatment users who converted:  11.88 %\n"
     ]
    }
   ],
   "source": [
    "print(\"Split of control users who saw old page vs treatment users who saw new page: \", \n",
    "          round(total_users_control / df[\"converted\"].count() * 100, 2), \"% \",\n",
    "          round((total_users_treatment / df[\"converted\"].count()) * 100, 2), \"%\" ,\n",
    "     '\\n' )\n",
    "\n",
    "#count number of users who converted in each group\n",
    "print(\"Number of control users were put on old page: \", total_users_control)\n",
    "print(\"Number of control users who converted on old page: \", conversions_control)\n",
    "print(\"Percentage of control users who converted: \", round((conversions_control / total_users_control) * 100, 2), \"%\")\n",
    "\n",
    "print('')\n",
    "print(\"Number of control users were put on new page: \", total_users_treatment)\n",
    "print(\"Number of treatment users who converted on new page: \", conversions_treatment)\n",
    "print(\"Percentage of treatment users who converted: \", round((conversions_treatment/ total_users_treatment) * 100, 2), \"%\")"
   ]
  },
  {
   "cell_type": "markdown",
   "id": "compliant-nelson",
   "metadata": {},
   "source": [
    "## Chi Square"
   ]
  },
  {
   "cell_type": "code",
   "execution_count": 26,
   "id": "middle-funeral",
   "metadata": {},
   "outputs": [
    {
     "name": "stdout",
     "output_type": "stream",
     "text": [
      "1.7185222540121272\n",
      "0.18988337448194853\n",
      "1\n",
      "[[ 17374.34725243 127899.65274757]\n",
      " [ 17378.65274757 127931.34725243]]\n"
     ]
    }
   ],
   "source": [
    "'''\n",
    "contingency = [[A_purchase , A_no_purchase ],\n",
    "               [B_purchase , B_no_purchase ],\n",
    "               [C_purchase , C_no_purchase ]]\n",
    "'''\n",
    "\n",
    "contingency = [\n",
    "                [conversions_control, total_users_control-conversions_control],\n",
    "                [conversions_treatment , total_users_treatment-conversions_treatment]\n",
    "                ]\n",
    "\n",
    "\n",
    "from scipy.stats import chi2_contingency\n",
    "\n",
    "#chi2 -> The test statistic.\n",
    "#pval -> The p-value of the test\n",
    "#dof -> Degrees of freedom\n",
    "#expected -> The expected frequencies, based on the marginal sums of the table.\n",
    "chi2, pval, dof, expected = chi2_contingency(contingency, correction=False)\n",
    "\n",
    "\n",
    "print(chi2)\n",
    "print(pval)\n",
    "print(dof)\n",
    "print(expected)"
   ]
  },
  {
   "cell_type": "code",
   "execution_count": 19,
   "id": "vital-sullivan",
   "metadata": {},
   "outputs": [
    {
     "name": "stdout",
     "output_type": "stream",
     "text": [
      "Z-score: -460.0521\n"
     ]
    }
   ],
   "source": [
    "S_mean = (conversions_treatment - conversions_control)\n",
    "S_var = (conversions_control/total_users_control) + (conversions_treatment/total_users_treatment)\n",
    "\n",
    "z_score = S_mean / np.sqrt(S_var)\n",
    "print('Z-score: {:0.4f}'.format(z_score))"
   ]
  },
  {
   "cell_type": "code",
   "execution_count": 20,
   "id": "spanish-friendship",
   "metadata": {},
   "outputs": [
    {
     "name": "stdout",
     "output_type": "stream",
     "text": [
      "p-value: 1.0000\n"
     ]
    }
   ],
   "source": [
    "from scipy.stats import norm\n",
    "\n",
    "print('p-value: {:0.4f}'.format(norm().sf(z_score)))"
   ]
  },
  {
   "cell_type": "markdown",
   "id": "cardiac-fitness",
   "metadata": {},
   "source": [
    "## Test parameters"
   ]
  },
  {
   "cell_type": "code",
   "execution_count": 21,
   "id": "elder-compression",
   "metadata": {},
   "outputs": [
    {
     "name": "stdout",
     "output_type": "stream",
     "text": [
      "Required sample size:  17209  per group\n"
     ]
    }
   ],
   "source": [
    "import math\n",
    "import statsmodels.stats.api as sms\n",
    "import scipy.stats as st\n",
    "\n",
    "#Check what sample size is required\n",
    "baseline_rate = conversions_control / total_users_control\n",
    "practical_significance = 0.01 #user defined\n",
    "confidence_level = 0.05 #user defined, for a 95% confidence interval\n",
    "sensitivity = 0.8 #user defined\n",
    "\n",
    "effect_size = sms.proportion_effectsize(baseline_rate, baseline_rate + practical_significance)\n",
    "sample_size = sms.NormalIndPower().solve_power(effect_size = effect_size, power = sensitivity, \n",
    "                                               alpha = confidence_level, ratio=1)\n",
    "print(\"Required sample size: \", round(sample_size), \" per group\")"
   ]
  },
  {
   "cell_type": "markdown",
   "id": "nearby-jaguar",
   "metadata": {},
   "source": [
    "## A/B test"
   ]
  },
  {
   "cell_type": "code",
   "execution_count": 22,
   "id": "terminal-yield",
   "metadata": {},
   "outputs": [
    {
     "name": "stdout",
     "output_type": "stream",
     "text": [
      "0.11959708724499628\n"
     ]
    }
   ],
   "source": [
    "#calc pooled probability\n",
    "prob_pooled = (conversions_control + conversions_treatment) / (total_users_control + total_users_treatment)\n",
    "print(prob_pooled)"
   ]
  },
  {
   "cell_type": "code",
   "execution_count": 28,
   "id": "rough-expression",
   "metadata": {},
   "outputs": [],
   "source": [
    "#Calculate pooled standard error and margin of error\n",
    "se_pooled = math.sqrt(prob_pooled * (1 - prob_pooled) * (1 / total_users_control + 1 / total_users_treatment))\n",
    "z_score = st.norm.ppf(1 - confidence_level / 2)\n",
    "margin_of_error = se_pooled * z_score"
   ]
  },
  {
   "cell_type": "code",
   "execution_count": 33,
   "id": "equivalent-zealand",
   "metadata": {},
   "outputs": [
    {
     "data": {
      "text/plain": [
       "-460.0521254034697"
      ]
     },
     "execution_count": 33,
     "metadata": {},
     "output_type": "execute_result"
    }
   ],
   "source": [
    "z_score"
   ]
  },
  {
   "cell_type": "code",
   "execution_count": 34,
   "id": "derived-intervention",
   "metadata": {},
   "outputs": [
    {
     "data": {
      "text/plain": [
       "0.0023596265703341376"
      ]
     },
     "execution_count": 34,
     "metadata": {},
     "output_type": "execute_result"
    }
   ],
   "source": [
    "margin_of_error"
   ]
  },
  {
   "cell_type": "code",
   "execution_count": 26,
   "id": "alien-mattress",
   "metadata": {},
   "outputs": [
    {
     "name": "stdout",
     "output_type": "stream",
     "text": [
      "Do not reject the null hypothesis\n",
      "The lower bound of the confidence interval is  -0.39 %\n",
      "The upper bound of the confidence interval is  0.08 %\n"
     ]
    }
   ],
   "source": [
    "#Calculate dhat, the estimated difference between probability of conversions in the experiment and control groups\n",
    "d_hat = (conversions_treatment / total_users_treatment) - (conversions_control / total_users_control)\n",
    "\n",
    "#Test if we can reject the null hypothesis\n",
    "lower_bound = d_hat - margin_of_error\n",
    "upper_bound = d_hat + margin_of_error\n",
    "\n",
    "if practical_significance < lower_bound:\n",
    "    print(\"Reject null hypothesis\")\n",
    "else: \n",
    "    print(\"Do not reject the null hypothesis\")\n",
    "    \n",
    "print(\"The lower bound of the confidence interval is \", round(lower_bound * 100, 2), \"%\")\n",
    "print(\"The upper bound of the confidence interval is \", round(upper_bound * 100, 2), \"%\")"
   ]
  },
  {
   "cell_type": "code",
   "execution_count": null,
   "id": "mobile-airline",
   "metadata": {},
   "outputs": [],
   "source": []
  }
 ],
 "metadata": {
  "kernelspec": {
   "display_name": "Python 3",
   "language": "python",
   "name": "python3"
  },
  "language_info": {
   "codemirror_mode": {
    "name": "ipython",
    "version": 3
   },
   "file_extension": ".py",
   "mimetype": "text/x-python",
   "name": "python",
   "nbconvert_exporter": "python",
   "pygments_lexer": "ipython3",
   "version": "3.7.0"
  }
 },
 "nbformat": 4,
 "nbformat_minor": 5
}
