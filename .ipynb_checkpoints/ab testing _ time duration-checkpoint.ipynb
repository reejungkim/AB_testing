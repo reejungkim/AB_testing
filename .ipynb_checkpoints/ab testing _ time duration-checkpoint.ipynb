{
 "cells": [
  {
   "cell_type": "code",
   "execution_count": 1,
   "id": "absent-backing",
   "metadata": {},
   "outputs": [
    {
     "data": {
      "text/plain": [
       "Ttest_indResult(statistic=1.933374622222914, pvalue=0.07227304704557012)"
      ]
     },
     "execution_count": 1,
     "metadata": {},
     "output_type": "execute_result"
    }
   ],
   "source": [
    "from scipy import stats\n",
    "\n",
    "\n",
    "#Check time duration people stayed on design A and design B\n",
    "# 데이터 담기\n",
    "design_A = [16.4, 12.6, 17.5, 18.8, 12.1, 13.2, 14.5, 12.4, 17.5, 25.4, 9.3, 10.4]\n",
    "design_B = [12.1, 11.8, 14.7, 13.1, 13.8, 10.1, 9.1, 13.5, 11.2, 13.7]\n",
    "\n",
    "# 검정 코드 실시\n",
    "stats.ttest_ind(design_A,\n",
    "                design_B,\n",
    "                equal_var=False)"
   ]
  },
  {
   "cell_type": "code",
   "execution_count": 2,
   "id": "scheduled-diary",
   "metadata": {},
   "outputs": [
    {
     "name": "stdout",
     "output_type": "stream",
     "text": [
      "카이제곱 통계량 : 1.11053\n",
      "pvalue : 0.29197\n"
     ]
    }
   ],
   "source": [
    "import pandas as pd\n",
    "from scipy.stats import chi2_contingency\n",
    "\n",
    "\n",
    "def click_abtest(a_click, total_a, b_click, total_b):\n",
    "\n",
    "    click = [a_click, b_click] # A와 B의 클릭한 유저 수\n",
    "    no_click = [total_a - a_click, total_b - b_click]  # A와 B의 클릭 안 한 유저 수\n",
    "    cont_table = pd.DataFrame([click, no_click], columns=['A', 'B'], index=['click', 'no_click'])\n",
    "    chi2, p_val, d_f, expected = chi2_contingency([click, no_click])\n",
    "\n",
    "    print(\"카이제곱 통계량 :\", format(chi2, '.5f'))\n",
    "    print(\"pvalue :\", format(p_val, '.5f'))\n",
    "\n",
    "# A의 클릭수(13)와 A의 데이터 전체 개수(244), B의 클릭수(23)와 A의 데이터 전체 개수(287)를 정의한 클래스에 넣어줍니다.\n",
    "click_abtest(13, 244, 23, 287)"
   ]
  },
  {
   "cell_type": "code",
   "execution_count": null,
   "id": "sexual-slovenia",
   "metadata": {},
   "outputs": [],
   "source": []
  }
 ],
 "metadata": {
  "kernelspec": {
   "display_name": "Python 3",
   "language": "python",
   "name": "python3"
  },
  "language_info": {
   "codemirror_mode": {
    "name": "ipython",
    "version": 3
   },
   "file_extension": ".py",
   "mimetype": "text/x-python",
   "name": "python",
   "nbconvert_exporter": "python",
   "pygments_lexer": "ipython3",
   "version": "3.7.0"
  }
 },
 "nbformat": 4,
 "nbformat_minor": 5
}
